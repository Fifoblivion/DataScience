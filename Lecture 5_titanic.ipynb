{
 "cells": [
  {
   "cell_type": "markdown",
   "metadata": {},
   "source": [
    "# Titanic Dataset"
   ]
  },
  {
   "cell_type": "code",
   "execution_count": null,
   "metadata": {},
   "outputs": [],
   "source": [
    "import pandas as pd\n",
    "import numpy as np\n",
    "import matplotlib.pyplot as plt\n",
    "import seaborn as sns\n",
    "#%matplotlib inline \n",
    "\n",
    "titanic = pd.read_csv(\"data/titanic.csv\")\n",
    "titanic.head()"
   ]
  },
  {
   "cell_type": "markdown",
   "metadata": {},
   "source": [
    "# Univariate Analysis (Column)"
   ]
  },
  {
   "cell_type": "code",
   "execution_count": null,
   "metadata": {},
   "outputs": [],
   "source": [
    "titanic.columns"
   ]
  },
  {
   "cell_type": "code",
   "execution_count": null,
   "metadata": {},
   "outputs": [],
   "source": [
    "titanic.dtypes"
   ]
  },
  {
   "cell_type": "markdown",
   "metadata": {},
   "source": [
    "### Types\n",
    "Nominal: Survived, Sex, Embarked, SibSp, Parch\n",
    "\n",
    "Ordinal: Pclass\n",
    "\n",
    "Numerical: Age, Fare\n",
    "\n",
    "Other: Name, Ticket, Cabin"
   ]
  },
  {
   "cell_type": "code",
   "execution_count": null,
   "metadata": {},
   "outputs": [],
   "source": [
    "#How many people survived in each class\n",
    "pd.crosstab(titanic[\"Pclass\"], titanic[\"Survived\"])"
   ]
  },
  {
   "cell_type": "code",
   "execution_count": null,
   "metadata": {},
   "outputs": [],
   "source": [
    "#The survive-rate in each class\n",
    "titanic[[\"Pclass\", \"Survived\"]].groupby(['Pclass'], as_index=False).mean().sort_values(by='Survived', ascending=False)"
   ]
  },
  {
   "cell_type": "code",
   "execution_count": null,
   "metadata": {},
   "outputs": [],
   "source": [
    "#Survied Rates by Sex\n",
    "titanic[[\"Sex\", \"Survived\"]].groupby([\"Sex\"], as_index = False).mean().sort_values(by=\"Survived\", ascending=False)"
   ]
  },
  {
   "cell_type": "code",
   "execution_count": null,
   "metadata": {},
   "outputs": [],
   "source": []
  },
  {
   "cell_type": "markdown",
   "metadata": {},
   "source": [
    "## Missing Value Treatement"
   ]
  },
  {
   "cell_type": "code",
   "execution_count": null,
   "metadata": {},
   "outputs": [],
   "source": [
    "titanic.isnull().sum()"
   ]
  },
  {
   "cell_type": "code",
   "execution_count": null,
   "metadata": {},
   "outputs": [],
   "source": [
    "titanic.Age.fillna(value=titanic.Age.mean(), inplace=True)\n",
    "titanic.Embarked.fillna(value=(titanic.Embarked.value_counts().idxmax()), inplace=True)\n",
    "\n",
    "titanic.head()"
   ]
  },
  {
   "cell_type": "code",
   "execution_count": null,
   "metadata": {},
   "outputs": [],
   "source": [
    "titanic.isnull().sum()"
   ]
  },
  {
   "cell_type": "code",
   "execution_count": null,
   "metadata": {},
   "outputs": [],
   "source": []
  },
  {
   "cell_type": "markdown",
   "metadata": {},
   "source": [
    "## Outlier Treatement"
   ]
  },
  {
   "cell_type": "code",
   "execution_count": null,
   "metadata": {},
   "outputs": [],
   "source": [
    "titanic.Age.plot.box()"
   ]
  },
  {
   "cell_type": "code",
   "execution_count": null,
   "metadata": {},
   "outputs": [],
   "source": [
    "titanic.SibSp.plot.box()"
   ]
  },
  {
   "cell_type": "code",
   "execution_count": null,
   "metadata": {},
   "outputs": [],
   "source": [
    "titanic.Parch.plot.box()"
   ]
  },
  {
   "cell_type": "code",
   "execution_count": null,
   "metadata": {},
   "outputs": [],
   "source": [
    "titanic.Fare.plot.box()"
   ]
  },
  {
   "cell_type": "code",
   "execution_count": null,
   "metadata": {},
   "outputs": [],
   "source": [
    "print(titanic.Fare.describe())\n",
    "\n",
    "f, ax = plt.subplots(1, 2, figsize=(15,5))\n",
    "\n",
    "titanic.Fare.plot.box(ax =ax[0])\n",
    "titanic.Fare.plot.hist(bins = 10 , ax = ax[1])"
   ]
  },
  {
   "cell_type": "code",
   "execution_count": null,
   "metadata": {},
   "outputs": [],
   "source": [
    "from collections import Counter\n",
    "\n",
    "def detect_outliers(df,n,features):\n",
    "    outlier_indexes=[]\n",
    "    \n",
    "    for col in features:\n",
    "        Q1=np.percentile(df[col],25)\n",
    "        Q3=np.percentile(df[col],75)\n",
    "        IQR=Q3-Q1\n",
    "        step=IQR*1.5\n",
    "        outlier_list_col = df[(df[col] < Q1 - step) | (df[col] > Q3 + step )].index\n",
    "        outlier_indexes.extend(outlier_list_col)\n",
    "        \n",
    "    outlier_indexes=Counter(outlier_indexes)\n",
    "    multiple_outliers = list( k for k, v in outlier_indexes.items() if v > n )\n",
    "    \n",
    "    return multiple_outliers\n",
    "\n",
    "Outliers_to_drop = detect_outliers(titanic,2,[\"Age\",\"SibSp\",\"Parch\",\"Fare\"])\n",
    "titanic.loc[Outliers_to_drop] # Show the outliers rows"
   ]
  },
  {
   "cell_type": "code",
   "execution_count": null,
   "metadata": {},
   "outputs": [],
   "source": [
    "titanic.shape"
   ]
  },
  {
   "cell_type": "code",
   "execution_count": null,
   "metadata": {},
   "outputs": [],
   "source": [
    "titanic = titanic.drop(Outliers_to_drop, axis = 0).reset_index(drop=True)"
   ]
  },
  {
   "cell_type": "code",
   "execution_count": null,
   "metadata": {},
   "outputs": [],
   "source": [
    "titanic.shape"
   ]
  },
  {
   "cell_type": "markdown",
   "metadata": {},
   "source": [
    "## Feature Engineering"
   ]
  },
  {
   "cell_type": "code",
   "execution_count": null,
   "metadata": {},
   "outputs": [],
   "source": [
    "titles = pd.DataFrame(titanic.apply(lambda x: x.Name.split(\",\")[1].split(\".\")[0], axis=1), columns=[\"Title\"])\n",
    "print(pd.Categorical(titles.Title))\n",
    "titanic = titanic.join(titles)"
   ]
  },
  {
   "cell_type": "code",
   "execution_count": null,
   "metadata": {},
   "outputs": [],
   "source": [
    "titanic.head()"
   ]
  },
  {
   "cell_type": "code",
   "execution_count": null,
   "metadata": {},
   "outputs": [],
   "source": [
    "titanic[\"Title\"] = titanic[\"Title\"].replace(\" Mr\", \"Mr\")\n",
    "titanic[\"Title\"] = titanic[\"Title\"].replace(\" Miss\", \"Miss\")\n",
    "titanic[\"Title\"] = titanic[\"Title\"].replace(\" Mrs\", \"Mrs\")\n",
    "titanic[\"Title\"] = titanic[\"Title\"].replace(\" Master\", \"Master\")\n",
    "\n",
    "titanic[\"Title\"] = titanic[\"Title\"].replace(\" Dona\", \"Other\")\n",
    "titanic[\"Title\"] = titanic[\"Title\"].replace(\" Mlle\", \"Miss\")\n",
    "titanic[\"Title\"] = titanic[\"Title\"].replace(\" Mme\", \"Miss\")\n",
    "titanic[\"Title\"] = titanic[\"Title\"].replace(\" Ms\", \"Miss\")\n",
    "titanic[\"Title\"] = titanic[\"Title\"].replace(\" Capt\", \"Mr\")\n",
    "titanic[\"Title\"] = titanic[\"Title\"].replace(\" Col\", \"Mr\")\n",
    "titanic[\"Title\"] = titanic[\"Title\"].replace(\" Countess\", \"Mrs\")\n",
    "titanic[\"Title\"] = titanic[\"Title\"].replace(\" Don\", \"Mr\")\n",
    "titanic[\"Title\"] = titanic[\"Title\"].replace(\" Dr\", \"Mr\")\n",
    "titanic[\"Title\"] = titanic[\"Title\"].replace(\" Jonkheer\", \"Other\")\n",
    "titanic[\"Title\"] = titanic[\"Title\"].replace(\" Lady\", \"Mrs\")\n",
    "titanic[\"Title\"] = titanic[\"Title\"].replace(\" Major\", \"Mr\")\n",
    "titanic[\"Title\"] = titanic[\"Title\"].replace(\" Rev\", \"Other\")\n",
    "titanic[\"Title\"] = titanic[\"Title\"].replace(\" Sir\", \"Mr\")\n",
    "titanic[\"Title\"] = titanic[\"Title\"].replace(\" the Countess\", \"Mrs\")"
   ]
  },
  {
   "cell_type": "code",
   "execution_count": null,
   "metadata": {},
   "outputs": [],
   "source": [
    "titanic.Title.value_counts()"
   ]
  },
  {
   "cell_type": "code",
   "execution_count": null,
   "metadata": {},
   "outputs": [],
   "source": [
    "# Calculating family size and adding column...\n",
    "fsiz = pd.DataFrame(titanic.apply(lambda x: x.SibSp+x.Parch, axis=1), columns=[\"FSize\"])\n",
    "titanic = titanic.join(fsiz)"
   ]
  },
  {
   "cell_type": "code",
   "execution_count": null,
   "metadata": {},
   "outputs": [],
   "source": [
    "titanic.head()"
   ]
  },
  {
   "cell_type": "code",
   "execution_count": null,
   "metadata": {},
   "outputs": [],
   "source": [
    "titanic.FSize.value_counts()"
   ]
  },
  {
   "cell_type": "code",
   "execution_count": null,
   "metadata": {},
   "outputs": [],
   "source": []
  },
  {
   "cell_type": "code",
   "execution_count": null,
   "metadata": {},
   "outputs": [],
   "source": [
    "print(\"So if the oldest Age was 80. We just devide this into 5 groups ->\",80/5 )\n",
    "\n",
    "\n",
    "titanic.loc[titanic[\"Age\"] <= 16, \"Age_group\"] = 0\n",
    "titanic.loc[(titanic[\"Age\"] > 16) & (titanic[\"Age\"] <=32), \"Age_group\"] = 1\n",
    "titanic.loc[(titanic[\"Age\"] > 32) & (titanic[\"Age\"] <=48), \"Age_group\"] = 2\n",
    "titanic.loc[(titanic[\"Age\"] > 48) & (titanic[\"Age\"] <=64), \"Age_group\"] = 3\n",
    "titanic.loc[(titanic[\"Age\"] > 64), \"Age_group\"] = 4\n",
    "\n",
    "titanic.head()"
   ]
  },
  {
   "cell_type": "code",
   "execution_count": null,
   "metadata": {},
   "outputs": [],
   "source": [
    "# train_df[[\"Age_group\", \"Survived\"]].groupby([\"Age_group\"]).mean().sort_values(by = \"Survived\")\n",
    "print(titanic.Age_group.value_counts(ascending = False))\n",
    "\n",
    "f, ax = plt.subplots(1,2, figsize = (20,5))\n",
    "titanic.Age_group.value_counts().plot.bar( ax = ax [0])\n",
    "sns.countplot(\"Age_group\", hue = \"Survived\", data = titanic, ax = ax[1])"
   ]
  },
  {
   "cell_type": "code",
   "execution_count": null,
   "metadata": {},
   "outputs": [],
   "source": [
    "titanic['Fare_range'] = pd.qcut(titanic['Fare'], 4)\n",
    "\n",
    "titanic[[\"Fare_range\", \"Survived\"]].groupby([\"Fare_range\"], as_index = False).mean().sort_values(by = \"Fare_range\", ascending = True)"
   ]
  },
  {
   "cell_type": "code",
   "execution_count": null,
   "metadata": {},
   "outputs": [],
   "source": [
    "titanic.head()"
   ]
  },
  {
   "cell_type": "code",
   "execution_count": null,
   "metadata": {},
   "outputs": [],
   "source": []
  },
  {
   "cell_type": "code",
   "execution_count": null,
   "metadata": {},
   "outputs": [],
   "source": [
    "#Feature Selecting\n",
    "\n",
    "\n",
    "titanic = titanic.drop(['Name','Ticket', 'Cabin'], axis=1)\n",
    "\n",
    "# no need for the following as the sum is used\n",
    "titanic.drop('Parch', axis=1, inplace=True)\n",
    "titanic.drop('SibSp', axis=1, inplace=True)"
   ]
  },
  {
   "cell_type": "code",
   "execution_count": null,
   "metadata": {},
   "outputs": [],
   "source": [
    "titanic.head()"
   ]
  },
  {
   "cell_type": "code",
   "execution_count": null,
   "metadata": {},
   "outputs": [],
   "source": []
  },
  {
   "cell_type": "code",
   "execution_count": null,
   "metadata": {},
   "outputs": [],
   "source": [
    "## Data Preparation"
   ]
  },
  {
   "cell_type": "code",
   "execution_count": null,
   "metadata": {},
   "outputs": [],
   "source": [
    "titanic[\"Sex\"].replace([\"male\", \"female\"], [0, 1], inplace = True)\n",
    "titanic[\"Embarked\"].replace([\"S\", \"C\", \"Q\"], [0, 1, 2], inplace = True)\n",
    "titanic[\"Title\"].replace([\"Master\", \"Miss\", \"Mr\", \"Mrs\", \"Other\"], [0, 1, 2, 3, 4], inplace = True)"
   ]
  },
  {
   "cell_type": "code",
   "execution_count": null,
   "metadata": {},
   "outputs": [],
   "source": [
    "titanic.head()"
   ]
  },
  {
   "cell_type": "code",
   "execution_count": null,
   "metadata": {},
   "outputs": [],
   "source": []
  },
  {
   "cell_type": "code",
   "execution_count": null,
   "metadata": {},
   "outputs": [],
   "source": [
    "sns.heatmap(titanic.corr(), annot = True)\n",
    "plt.show()"
   ]
  },
  {
   "cell_type": "code",
   "execution_count": null,
   "metadata": {},
   "outputs": [],
   "source": [
    "g = sns.heatmap(titanic[[\"Survived\",\"FSize\",\"Age\",\"Fare\", \"Pclass\"]].corr(),annot=True, fmt = \".2f\", cmap = \"coolwarm\")"
   ]
  },
  {
   "cell_type": "code",
   "execution_count": null,
   "metadata": {},
   "outputs": [],
   "source": []
  }
 ],
 "metadata": {
  "kernelspec": {
   "display_name": "Python 3",
   "language": "python",
   "name": "python3"
  },
  "language_info": {
   "codemirror_mode": {
    "name": "ipython",
    "version": 3
   },
   "file_extension": ".py",
   "mimetype": "text/x-python",
   "name": "python",
   "nbconvert_exporter": "python",
   "pygments_lexer": "ipython3",
   "version": "3.6.8"
  }
 },
 "nbformat": 4,
 "nbformat_minor": 2
}
