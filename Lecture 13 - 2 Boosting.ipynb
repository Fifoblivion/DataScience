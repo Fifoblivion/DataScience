{
 "cells": [
  {
   "cell_type": "markdown",
   "metadata": {},
   "source": [
    "# Boosting"
   ]
  },
  {
   "cell_type": "code",
   "execution_count": null,
   "metadata": {},
   "outputs": [],
   "source": [
    "import pandas as pd\n",
    "import numpy as np\n",
    "\n",
    "from sklearn.preprocessing import StandardScaler\n",
    "from sklearn.model_selection import train_test_split, cross_val_score, StratifiedKFold\n",
    "from sklearn import metrics\n",
    "\n",
    "from matplotlib.colors import ListedColormap\n",
    "import matplotlib.pyplot as plt\n",
    "import matplotlib as mpl\n",
    "%matplotlib inline"
   ]
  },
  {
   "cell_type": "markdown",
   "metadata": {},
   "source": [
    "### Prepare Dataset"
   ]
  },
  {
   "cell_type": "code",
   "execution_count": null,
   "metadata": {},
   "outputs": [],
   "source": [
    "df = pd.read_csv(\"data/diabetes.csv\")\n",
    "\n",
    "# Use some week features\n",
    "X = df[['age','serum_insulin']]\n",
    "y = df['class'].values\n",
    "\n",
    "# Normalize\n",
    "X = StandardScaler().fit_transform(X)\n",
    "\n",
    "# Split dataset into train and test sets\n",
    "X_train, X_test, y_train, y_test = train_test_split(X, y, test_size=0.2)"
   ]
  },
  {
   "cell_type": "markdown",
   "metadata": {},
   "source": [
    "### AdaBoosting"
   ]
  },
  {
   "cell_type": "code",
   "execution_count": null,
   "metadata": {},
   "outputs": [],
   "source": [
    "from sklearn.ensemble import AdaBoostClassifier\n",
    "from sklearn.tree import DecisionTreeClassifier\n",
    "\n",
    "kfold = StratifiedKFold(n_splits=5)\n",
    "num_trees = 100\n",
    "\n",
    "# Dection Tree with 5 fold cross validation\n",
    "# lets restrict max_depth to 1 to have more impure leaves\n",
    "DT = DecisionTreeClassifier(max_depth=1).fit(X_train,y_train)\n",
    "results = cross_val_score(DT, X_train,y_train, cv=kfold)\n",
    "print (\"Decision Tree (stand alone) - CV Train : %.2f\" % results.mean())\n",
    "print (\"Decision Tree (stand alone) - Test : %.2f\" % metrics.accuracy_score(DT.predict(X_train), y_train))\n",
    "print (\"Decision Tree (stand alone) - Test : %.2f\" % metrics.accuracy_score(DT.predict(X_test), y_test))\n",
    "\n",
    "# Using Adaptive Boosting of 100 iteration\n",
    "AdaBoost_DT = AdaBoostClassifier(base_estimator=DT, n_estimators=num_trees, learning_rate=0.1).fit(X_train,y_train)\n",
    "results = cross_val_score(AdaBoost_DT, X_train, y_train, cv=kfold)\n",
    "print (\"\\nDecision Tree (AdaBoosting) - CV Train : %.2f\" % results.mean())\n",
    "print (\"Decision Tree (AdaBoosting) - Train : %.2f\" % metrics.accuracy_score(AdaBoost_DT.predict(X_train), y_train))\n",
    "print (\"Decision Tree (AdaBoosting) - Test : %.2f\" % metrics.accuracy_score(AdaBoost_DT.predict(X_test), y_test))"
   ]
  },
  {
   "cell_type": "markdown",
   "metadata": {},
   "source": [
    "AdaBoost algorithm has given an average rise in accuracy score between train / test dataset compared to the stanalone decision tree model."
   ]
  },
  {
   "cell_type": "markdown",
   "metadata": {},
   "source": [
    "# Gradient Boosting"
   ]
  },
  {
   "cell_type": "code",
   "execution_count": null,
   "metadata": {},
   "outputs": [],
   "source": [
    "from sklearn.ensemble import GradientBoostingClassifier\n",
    "\n",
    "# Using Gradient Boosting of 100 iterations\n",
    "GBT = GradientBoostingClassifier(n_estimators=num_trees, learning_rate=0.1).fit(X_train, y_train)\n",
    "results = cross_val_score(GBT, X_train, y_train, cv=kfold)\n",
    "\n",
    "print (\"\\nGradient Boosting - CV Train : %.2f\" % results.mean())\n",
    "print (\"Gradient Boosting - Train : %.2f\" % metrics.accuracy_score(GBT.predict(X_train), y_train))\n",
    "print (\"Gradient Boosting - Test : %.2f\" % metrics.accuracy_score(GBT.predict(X_test), y_test))"
   ]
  },
  {
   "cell_type": "markdown",
   "metadata": {},
   "source": [
    "# XGBoost"
   ]
  },
  {
   "cell_type": "code",
   "execution_count": null,
   "metadata": {},
   "outputs": [],
   "source": [
    "from xgboost.sklearn import XGBClassifier\n",
    "\n",
    "num_rounds = 100\n",
    "\n",
    "kfold = StratifiedKFold(n_splits=5)\n",
    "\n",
    "XGB = XGBClassifier(n_estimators = num_rounds, objective='binary:logistic')\n",
    "\n",
    "# use early_stopping_rounds to stop the cv when there is no score imporovement\n",
    "XGB.fit(X_train,y_train, early_stopping_rounds=20, eval_set=[(X_test, y_test)], verbose=False)\n",
    "\n",
    "results = cross_val_score(XGB, X_train,y_train, cv=kfold)\n",
    "print (\"\\nxgBoost - CV Train : %.2f\" % results.mean())\n",
    "print (\"xgBoost - Train : %.2f\" % metrics.accuracy_score(XGB.predict(X_train), y_train))\n",
    "print (\"xgBoost - Test : %.2f\" % metrics.accuracy_score(XGB.predict(X_test), y_test))"
   ]
  }
 ],
 "metadata": {
  "kernelspec": {
   "display_name": "Python 3",
   "language": "python",
   "name": "python3"
  },
  "language_info": {
   "codemirror_mode": {
    "name": "ipython",
    "version": 3
   },
   "file_extension": ".py",
   "mimetype": "text/x-python",
   "name": "python",
   "nbconvert_exporter": "python",
   "pygments_lexer": "ipython3",
   "version": "3.7.1"
  }
 },
 "nbformat": 4,
 "nbformat_minor": 2
}
