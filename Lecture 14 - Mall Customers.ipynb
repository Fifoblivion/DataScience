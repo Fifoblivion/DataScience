{
 "cells": [
  {
   "cell_type": "markdown",
   "metadata": {},
   "source": [
    "# Importing the libraries"
   ]
  },
  {
   "cell_type": "code",
   "execution_count": null,
   "metadata": {},
   "outputs": [],
   "source": [
    "import pandas as pd\n",
    "import numpy as np\n",
    "import matplotlib.pyplot as plt\n",
    "%matplotlib inline\n",
    "\n",
    "# Models\n",
    "from sklearn.cluster import KMeans\n",
    "\n",
    "# Plot Styling\n",
    "import seaborn as sns; \n",
    "sns.set(); \n",
    "sns.set_style(\"whitegrid\")  \n",
    "\n",
    "import warnings\n",
    "warnings.filterwarnings('ignore')\n",
    "\n",
    "# Pyplot\n",
    "import matplotlib.pyplot as plt"
   ]
  },
  {
   "cell_type": "markdown",
   "metadata": {},
   "source": [
    "# Importing the dataset"
   ]
  },
  {
   "cell_type": "code",
   "execution_count": null,
   "metadata": {},
   "outputs": [],
   "source": [
    "customers = pd.read_csv('data/mall_customers.csv')"
   ]
  },
  {
   "cell_type": "markdown",
   "metadata": {},
   "source": [
    "# Peek the Data"
   ]
  },
  {
   "cell_type": "code",
   "execution_count": null,
   "metadata": {},
   "outputs": [],
   "source": [
    "customers.head()"
   ]
  },
  {
   "cell_type": "code",
   "execution_count": null,
   "metadata": {},
   "outputs": [],
   "source": [
    "customers.sample(5)"
   ]
  },
  {
   "cell_type": "code",
   "execution_count": null,
   "metadata": {},
   "outputs": [],
   "source": [
    "customers.info()"
   ]
  },
  {
   "cell_type": "code",
   "execution_count": null,
   "metadata": {},
   "outputs": [],
   "source": [
    "customers.describe()"
   ]
  },
  {
   "cell_type": "markdown",
   "metadata": {},
   "source": [
    "# Preprocessing\n",
    "### checking if the dataset contains any NULL values"
   ]
  },
  {
   "cell_type": "code",
   "execution_count": null,
   "metadata": {},
   "outputs": [],
   "source": [
    "customers.isnull().sum()"
   ]
  },
  {
   "cell_type": "markdown",
   "metadata": {},
   "source": [
    "### Visualization"
   ]
  },
  {
   "cell_type": "code",
   "execution_count": null,
   "metadata": {},
   "outputs": [],
   "source": [
    "plt.figure(1 , figsize = (20 , 6))\n",
    "n = 0 \n",
    "for x in ['Age' , 'Annual Income (k$)' , 'Spending Score (1-100)']:\n",
    "    n += 1\n",
    "    plt.subplot(1 , 3 , n)\n",
    "    plt.subplots_adjust(hspace =0.5 , wspace = 0.5)\n",
    "    sns.distplot(customers[x] , bins = 20)\n",
    "    plt.title('Distplot of {}'.format(x), fontsize = 20)\n",
    "plt.show()"
   ]
  },
  {
   "cell_type": "code",
   "execution_count": null,
   "metadata": {},
   "outputs": [],
   "source": [
    "plt.figure(1 , figsize = (20 , 7))\n",
    "n = 0 \n",
    "for x in ['Age' , 'Annual Income (k$)' , 'Spending Score (1-100)']:\n",
    "    for y in ['Age' , 'Annual Income (k$)' , 'Spending Score (1-100)']:\n",
    "        n += 1\n",
    "        plt.subplot(3 , 3 , n)\n",
    "        plt.subplots_adjust(hspace = 0.5 , wspace = 0.5)\n",
    "        sns.regplot(x = x , y = y , data = customers)\n",
    "        plt.ylabel(y.split()[0]+' '+y.split()[1] if len(y.split()) > 1 else y )\n",
    "plt.show()"
   ]
  },
  {
   "cell_type": "code",
   "execution_count": null,
   "metadata": {},
   "outputs": [],
   "source": [
    "customers['Age'].plot.hist(figsize = (15, 6))"
   ]
  },
  {
   "cell_type": "code",
   "execution_count": null,
   "metadata": {},
   "outputs": [],
   "source": [
    "customers['Spending Score (1-100)'].plot.hist(figsize = (15, 5))"
   ]
  },
  {
   "cell_type": "code",
   "execution_count": null,
   "metadata": {},
   "outputs": [],
   "source": [
    "customers.columns"
   ]
  },
  {
   "cell_type": "markdown",
   "metadata": {},
   "source": [
    "### Correlation"
   ]
  },
  {
   "cell_type": "code",
   "execution_count": null,
   "metadata": {},
   "outputs": [],
   "source": [
    "sns.heatmap(customers.corr(), annot=True)\n",
    "plt.show()"
   ]
  },
  {
   "cell_type": "markdown",
   "metadata": {},
   "source": [
    "# Clustering With 2 Features \n",
    "### Annual Income, Spending Score"
   ]
  },
  {
   "cell_type": "code",
   "execution_count": null,
   "metadata": {},
   "outputs": [],
   "source": [
    "X = customers.iloc[:, [3, 4]]"
   ]
  },
  {
   "cell_type": "code",
   "execution_count": null,
   "metadata": {},
   "outputs": [],
   "source": [
    "X.columns"
   ]
  },
  {
   "cell_type": "markdown",
   "metadata": {},
   "source": [
    "### Elbow Method to find the optimal number of clusters"
   ]
  },
  {
   "cell_type": "code",
   "execution_count": null,
   "metadata": {},
   "outputs": [],
   "source": [
    "sse = []\n",
    "for i in range(1, 11):\n",
    "   kmeans = KMeans(n_clusters = i, init = 'k-means++').fit(X)\n",
    "   sse.append(kmeans.inertia_)\n",
    "\n",
    "plt.figure(figsize = (12 , 6))\n",
    "plt.plot(range(1,11), sse, '-o')\n",
    "plt.xlabel(r'Number of clusters *k*')\n",
    "plt.ylabel('Sum of squared distance');\n",
    "plt.title('Elbow Method For Optimal k')\n",
    "plt.show()"
   ]
  },
  {
   "cell_type": "markdown",
   "metadata": {},
   "source": [
    "K = 5 is the optimal number of clusters"
   ]
  },
  {
   "cell_type": "markdown",
   "metadata": {},
   "source": [
    "### K-Means Modeling"
   ]
  },
  {
   "cell_type": "code",
   "execution_count": null,
   "metadata": {},
   "outputs": [],
   "source": [
    "kmeans = KMeans(n_clusters = 5, init = 'k-means++')\n",
    "y_kmeans = kmeans.fit_predict(X)\n",
    "centroids = kmeans.cluster_centers_\n",
    "print(centroids)\n",
    "\n",
    "customers['cluster_group_2_features'] = y_kmeans # Save predictions to new column"
   ]
  },
  {
   "cell_type": "code",
   "execution_count": null,
   "metadata": {},
   "outputs": [],
   "source": [
    "customers.cluster_group_2_features.value_counts()"
   ]
  },
  {
   "cell_type": "code",
   "execution_count": null,
   "metadata": {},
   "outputs": [],
   "source": [
    "plt.figure(figsize = (15 , 6))\n",
    "plt.scatter(X[y_kmeans == 0]['Annual Income (k$)'],X[y_kmeans == 0]['Spending Score (1-100)'],s = 100, c ='red', label = 'Standard')\n",
    "plt.scatter(X[y_kmeans == 1]['Annual Income (k$)'],X[y_kmeans == 1]['Spending Score (1-100)'],s = 100, c ='blue', label = 'Careful')\n",
    "plt.scatter(X[y_kmeans == 2]['Annual Income (k$)'],X[y_kmeans == 2]['Spending Score (1-100)'],s = 100, c ='green', label = 'Sensible')\n",
    "plt.scatter(X[y_kmeans == 3]['Annual Income (k$)'],X[y_kmeans == 3]['Spending Score (1-100)'],s = 100, c ='cyan', label = 'Careless')\n",
    "plt.scatter(X[y_kmeans == 4]['Annual Income (k$)'],X[y_kmeans == 4]['Spending Score (1-100)'],s = 100, c ='magenta', label = 'Target')\n",
    "plt.scatter(centroids[:,0],centroids[:,1],s = 300, c ='yellow', label = 'Centroids')\n",
    "plt.title('Clusters of customers')\n",
    "plt.xlabel('Annual Income (k$)')\n",
    "plt.ylabel('Spending score (1-100)')\n",
    "plt.legend()\n",
    "plt.show()"
   ]
  },
  {
   "cell_type": "markdown",
   "metadata": {},
   "source": [
    "### Hierarchical Clustering"
   ]
  },
  {
   "cell_type": "code",
   "execution_count": null,
   "metadata": {},
   "outputs": [],
   "source": [
    "import scipy.cluster.hierarchy as sch\n",
    "sns.set(style='white')\n",
    "\n",
    "dendrogram = sch.dendrogram(sch.linkage(X, method = 'ward'))\n",
    "\n",
    "fig = plt.gcf()\n",
    "fig.set_size_inches(15,6)\n",
    "ax = plt.gca()\n",
    "bounds = ax.get_xbound()\n",
    "ax.plot(bounds, [175,175],'--', c='k')\n",
    "ax.plot(bounds,'--', c='k')\n",
    "plt.title('Dendrogam')\n",
    "plt.xlabel('Customers')\n",
    "plt.ylabel('Ecuclidean Distance')\n",
    "plt.show()"
   ]
  },
  {
   "cell_type": "markdown",
   "metadata": {},
   "source": [
    "# Clustering With 3 Features \n",
    "### Age, Annual Income, Spending Score"
   ]
  },
  {
   "cell_type": "code",
   "execution_count": null,
   "metadata": {},
   "outputs": [],
   "source": [
    "X2 = customers[['Age' , 'Annual Income (k$)' ,'Spending Score (1-100)']].values"
   ]
  },
  {
   "cell_type": "markdown",
   "metadata": {},
   "source": [
    "### Elbow Method"
   ]
  },
  {
   "cell_type": "code",
   "execution_count": null,
   "metadata": {},
   "outputs": [],
   "source": [
    "sse = []\n",
    "for i in range(1, 11):\n",
    "   kmeans2 = KMeans(n_clusters = i, init = 'k-means++').fit(X2)\n",
    "   sse.append(kmeans2.inertia_)\n",
    "    \n",
    "plt.figure(figsize = (12 , 6))\n",
    "plt.plot(range(1,11), sse, 'o')\n",
    "plt.plot(range(1,11), sse, '-', alpha = 0.5)\n",
    "plt.xlabel(r'Number of clusters *k*')\n",
    "plt.ylabel('Sum of squared distance');\n",
    "plt.title('Elbow Method For Optimal k')\n",
    "plt.show()"
   ]
  },
  {
   "cell_type": "markdown",
   "metadata": {},
   "source": [
    "### K-means Modeling"
   ]
  },
  {
   "cell_type": "code",
   "execution_count": null,
   "metadata": {},
   "outputs": [],
   "source": [
    "kmeans2 = KMeans(n_clusters = 6, init = 'k-means++')\n",
    "y_kmeans2 = kmeans2.fit_predict(X2)\n",
    "centroids2 = kmeans2.cluster_centers_\n",
    "print(centroids2)\n",
    "\n",
    "customers['cluster_group_3_features'] = y_kmeans2 # Save predictions to new column"
   ]
  },
  {
   "cell_type": "code",
   "execution_count": null,
   "metadata": {},
   "outputs": [],
   "source": [
    "customers.cluster_group_3_features.value_counts()"
   ]
  },
  {
   "cell_type": "markdown",
   "metadata": {},
   "source": [
    "### Plotting Using Plotly\n",
    "If you don't have Plotly yet, please write down these codes to your terminal:\n",
    "- conda install -c https://conda.anaconda.org/plotly plotly\n",
    "- jupyter labextension install @jupyterlab/plotly-extension"
   ]
  },
  {
   "cell_type": "code",
   "execution_count": null,
   "metadata": {},
   "outputs": [],
   "source": [
    "import plotly as py\n",
    "import plotly.graph_objs as go\n",
    "py.offline.init_notebook_mode(connected = True)\n",
    "\n",
    "trace1 = go.Scatter3d(\n",
    "    x = customers['Age'],\n",
    "    y = customers['Spending Score (1-100)'],    \n",
    "    z = customers['Annual Income (k$)'],\n",
    "    mode='markers',\n",
    "     marker=dict(\n",
    "        color = customers['cluster_group'], \n",
    "        size= 5,\n",
    "        line=dict(\n",
    "            color= customers['cluster_group'],\n",
    "            width= 12\n",
    "        ),\n",
    "        opacity=0.8\n",
    "     )\n",
    ")\n",
    "data = [trace1]\n",
    "layout = go.Layout( \n",
    "    width = 700,\n",
    "    height = 500,\n",
    "    title= 'Clusters',\n",
    "    scene = dict(\n",
    "            xaxis = dict(title  = 'Age'),\n",
    "            yaxis = dict(title  = 'Spending Score'),\n",
    "            zaxis = dict(title  = 'Annual Income')\n",
    "            )\n",
    "    )\n",
    "\n",
    "fig = go.Figure(data=data, layout=layout)\n",
    "py.offline.iplot(fig)"
   ]
  },
  {
   "cell_type": "markdown",
   "metadata": {},
   "source": [
    "### Plotting Using Matplotlib 3s"
   ]
  },
  {
   "cell_type": "code",
   "execution_count": null,
   "metadata": {},
   "outputs": [],
   "source": [
    "from mpl_toolkits.mplot3d import Axes3D\n",
    "\n",
    "plt.style.use('seaborn-whitegrid')\n",
    "fig = plt.figure(figsize=(15,15))\n",
    "ax = fig.add_subplot(111, projection = '3d')\n",
    "ax.scatter(customers['Spending Score (1-100)'], customers['Age'], customers['Annual Income (k$)'], c = kmeans2.labels_, marker = 'o', cmap = 'prism', s = 120, edgecolor = 'black', linewidth = 1)\n",
    "    \n",
    "ax.set_xlabel(\"Spending Score (1-100)\")\n",
    "ax.set_ylabel(\"Age\")\n",
    "ax.set_zlabel(\"Annual Income (k$)\")\n",
    "plt.show()"
   ]
  },
  {
   "cell_type": "markdown",
   "metadata": {},
   "source": [
    "### Different Point of View"
   ]
  },
  {
   "cell_type": "code",
   "execution_count": null,
   "metadata": {},
   "outputs": [],
   "source": [
    "from mpl_toolkits.mplot3d import Axes3D\n",
    "\n",
    "plt.style.use('seaborn-whitegrid')\n",
    "fig = plt.figure(figsize=(15,15))\n",
    "ax = fig.add_subplot(111, projection = '3d')\n",
    "ax.scatter(customers['Spending Score (1-100)'], customers['Age'], customers['Annual Income (k$)'], c = kmeans2.labels_, marker = 'o', cmap = 'prism', s = 120, edgecolor = 'black', linewidth = 1)\n",
    "    \n",
    "ax.set_xlabel(\"Spending Score (1-100)\")\n",
    "ax.set_ylabel(\"Age\")\n",
    "ax.set_zlabel(\"Annual Income (k$)\")\n",
    "ax.view_init(10, 95)\n",
    "plt.show()"
   ]
  },
  {
   "cell_type": "markdown",
   "metadata": {},
   "source": [
    "### Save The Predictions To CSV"
   ]
  },
  {
   "cell_type": "code",
   "execution_count": null,
   "metadata": {},
   "outputs": [],
   "source": [
    "customers.to_csv('customers_clusters.csv',index=False, header=True)"
   ]
  },
  {
   "cell_type": "code",
   "execution_count": null,
   "metadata": {},
   "outputs": [],
   "source": []
  },
  {
   "cell_type": "markdown",
   "metadata": {},
   "source": [
    "# Radar Chart"
   ]
  },
  {
   "cell_type": "code",
   "execution_count": null,
   "metadata": {},
   "outputs": [],
   "source": [
    "def _scale_data(data, ranges):\n",
    "    (x1, x2) = ranges[0]\n",
    "    d = data[0]\n",
    "    return [(d - y1) / (y2 - y1) * (x2 - x1) + x1 for d, (y1, y2) in zip(data, ranges)]\n",
    "\n",
    "class RadarChart():\n",
    "    def __init__(self, fig, location, sizes, variables, ranges, n_ordinate_levels = 6):\n",
    "\n",
    "        angles = np.arange(0, 360, 360./len(variables))\n",
    "\n",
    "        ix, iy = location[:] ; size_x, size_y = sizes[:]\n",
    "        \n",
    "        axes = [fig.add_axes([ix, iy, size_x, size_y], polar = True, \n",
    "        label = \"axes{}\".format(i)) for i in range(len(variables))]\n",
    "\n",
    "        _, text = axes[0].set_thetagrids(angles, labels = variables)\n",
    "        \n",
    "        for txt, angle in zip(text, angles):\n",
    "            if angle > -1 and angle < 181:\n",
    "                txt.set_rotation(angle - 90)\n",
    "            else:\n",
    "                txt.set_rotation(angle - 270)\n",
    "        \n",
    "        for ax in axes[1:]:\n",
    "            ax.patch.set_visible(False)\n",
    "            ax.xaxis.set_visible(False)\n",
    "            ax.grid(\"off\")\n",
    "        \n",
    "        for i, ax in enumerate(axes):\n",
    "            grid = np.linspace(*ranges[i],num = n_ordinate_levels)\n",
    "            grid_label = [\"\"]+[\"{:.0f}\".format(x) for x in grid[1:-1]]\n",
    "            ax.set_rgrids(grid, labels = grid_label, angle = angles[i])\n",
    "            ax.set_ylim(*ranges[i])\n",
    "        \n",
    "        self.angle = np.deg2rad(np.r_[angles, angles[0]])\n",
    "        self.ranges = ranges\n",
    "        self.ax = axes[0]\n",
    "                \n",
    "    def plot(self, data, *args, **kw):\n",
    "        sdata = _scale_data(data, self.ranges)\n",
    "        self.ax.plot(self.angle, np.r_[sdata, sdata[0]], *args, **kw)\n",
    "\n",
    "    def fill(self, data, *args, **kw):\n",
    "        sdata = _scale_data(data, self.ranges)\n",
    "        self.ax.fill(self.angle, np.r_[sdata, sdata[0]], *args, **kw)\n",
    "\n",
    "    def legend(self, *args, **kw):\n",
    "        self.ax.legend(*args, **kw)\n",
    "        \n",
    "    def title(self, title, *args, **kw):\n",
    "        self.ax.text(0.9, 1, title, transform = self.ax.transAxes, *args, **kw)"
   ]
  },
  {
   "cell_type": "markdown",
   "metadata": {},
   "source": [
    "### 2 Features"
   ]
  },
  {
   "cell_type": "code",
   "execution_count": null,
   "metadata": {},
   "outputs": [],
   "source": [
    "radar_2_feature = pd.pivot_table(customers, index = ['cluster_group_2_features'], values=['Age','Annual Income (k$)','Spending Score (1-100)'])\n",
    "\n",
    "fig = plt.figure(figsize=(10,12))\n",
    "\n",
    "n_clusters = len(customers.cluster_group_2_features.value_counts())\n",
    "\n",
    "attributes = ['Age','Annual Income (k$)','Spending Score (1-100)']\n",
    "ranges = [[0.01, 70], [0.01, 137], [0.01,100]]\n",
    "index  = [0, 1, 2]\n",
    "\n",
    "i_cols = 3\n",
    "i_rows = 2\n",
    "size_x, size_y = (1/i_cols), (1/i_rows)\n",
    "\n",
    "for ind in range(n_clusters):\n",
    "    ix = ind%3 ; iy = i_rows - ind//3\n",
    "    pos_x = ix*(size_x + 0.05) ; pos_y = iy*(size_y + 0.05)            \n",
    "    location = [pos_x, pos_y]  ; sizes = [size_x, size_y] \n",
    "    #______________________________________________________\n",
    "    data = np.array(radar_2_feature.loc[ind])\n",
    "    \n",
    "    radar = RadarChart(fig, location, sizes, attributes, ranges)\n",
    "    radar.plot(data, color = 'b', linewidth=2.0)\n",
    "    radar.fill(data, alpha = 0.2, color = 'b')\n",
    "    radar.title(title = 'cluster nº{}'.format(ind), color = 'r')\n",
    "    ind += 1 "
   ]
  },
  {
   "cell_type": "markdown",
   "metadata": {},
   "source": [
    "### 3 Features"
   ]
  },
  {
   "cell_type": "code",
   "execution_count": null,
   "metadata": {},
   "outputs": [],
   "source": [
    "radar_3_feature = pd.pivot_table(customers, index = ['cluster_group_3_features'], values=['Age','Annual Income (k$)','Spending Score (1-100)'])\n",
    "\n",
    "fig = plt.figure(figsize=(10,12))\n",
    "\n",
    "n_clusters = len(customers.cluster_group_3_features.value_counts())\n",
    "\n",
    "attributes = ['Age','Annual Income (k$)','Spending Score (1-100)']\n",
    "ranges = [[0.01, 70], [0.01, 137], [0.01,100]]\n",
    "index  = [0, 1, 2]\n",
    "\n",
    "i_cols = 3\n",
    "i_rows = 2\n",
    "size_x, size_y = (1/i_cols), (1/i_rows)\n",
    "\n",
    "for ind in range(n_clusters):\n",
    "    ix = ind%3 ; iy = i_rows - ind//3\n",
    "    pos_x = ix*(size_x + 0.05) ; pos_y = iy*(size_y + 0.05)            \n",
    "    location = [pos_x, pos_y]  ; sizes = [size_x, size_y] \n",
    "    #______________________________________________________  \n",
    "    data = np.array(radar_3_feature.loc[ind])\n",
    "    \n",
    "    radar = RadarChart(fig, location, sizes, attributes, ranges)\n",
    "    radar.plot(data, color = 'b', linewidth=2.0)\n",
    "    radar.fill(data, alpha = 0.2, color = 'b')\n",
    "    radar.title(title = 'cluster nº{}'.format(ind), color = 'r')\n",
    "    ind += 1 "
   ]
  },
  {
   "cell_type": "code",
   "execution_count": null,
   "metadata": {},
   "outputs": [],
   "source": []
  }
 ],
 "metadata": {
  "kernelspec": {
   "display_name": "Python 3",
   "language": "python",
   "name": "python3"
  },
  "language_info": {
   "codemirror_mode": {
    "name": "ipython",
    "version": 3
   },
   "file_extension": ".py",
   "mimetype": "text/x-python",
   "name": "python",
   "nbconvert_exporter": "python",
   "pygments_lexer": "ipython3",
   "version": "3.7.1"
  }
 },
 "nbformat": 4,
 "nbformat_minor": 2
}
