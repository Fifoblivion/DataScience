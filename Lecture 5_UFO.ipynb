{
 "cells": [
  {
   "cell_type": "code",
   "execution_count": null,
   "metadata": {},
   "outputs": [],
   "source": [
    "import numpy as np\n",
    "import pandas as pd\n",
    "import matplotlib.pyplot as plt\n",
    "import seaborn as sns\n",
    "from wordcloud import WordCloud"
   ]
  },
  {
   "cell_type": "code",
   "execution_count": null,
   "metadata": {},
   "outputs": [],
   "source": [
    "df = pd.read_csv(\"data/ufo.csv\", error_bad_lines=False)"
   ]
  },
  {
   "cell_type": "code",
   "execution_count": null,
   "metadata": {},
   "outputs": [],
   "source": [
    "ufo_data = df.copy()"
   ]
  },
  {
   "cell_type": "markdown",
   "metadata": {},
   "source": [
    "# Peek The Data"
   ]
  },
  {
   "cell_type": "code",
   "execution_count": null,
   "metadata": {},
   "outputs": [],
   "source": [
    "ufo_data.head()"
   ]
  },
  {
   "cell_type": "code",
   "execution_count": null,
   "metadata": {},
   "outputs": [],
   "source": [
    "ufo_data.shape"
   ]
  },
  {
   "cell_type": "code",
   "execution_count": null,
   "metadata": {},
   "outputs": [],
   "source": [
    "ufo_data.columns"
   ]
  },
  {
   "cell_type": "code",
   "execution_count": null,
   "metadata": {},
   "outputs": [],
   "source": [
    "ufo_data.dtypes"
   ]
  },
  {
   "cell_type": "code",
   "execution_count": null,
   "metadata": {},
   "outputs": [],
   "source": []
  },
  {
   "cell_type": "markdown",
   "metadata": {},
   "source": [
    "# Data Wrangling & Tidying Up"
   ]
  },
  {
   "cell_type": "code",
   "execution_count": null,
   "metadata": {},
   "outputs": [],
   "source": [
    "ufo_data.head()"
   ]
  },
  {
   "cell_type": "code",
   "execution_count": null,
   "metadata": {},
   "outputs": [],
   "source": [
    "ufo_data.dtypes"
   ]
  },
  {
   "cell_type": "code",
   "execution_count": null,
   "metadata": {},
   "outputs": [],
   "source": [
    "# Null Values (% of entries)\n",
    "nulvals = ufo_data.isnull().sum()\n",
    "nulpct = (nulvals / len(ufo_data))*100\n",
    "print(round(nulpct.sort_values(ascending=False),2))\n",
    "\n",
    "#Country -> unknown\n",
    "#State -> unknown\n",
    "#duration (hours/min) -> drop column\n",
    "#duration (seconds) -> dropna\n",
    "#shape -> dropna\n",
    "#comment -> dropna"
   ]
  },
  {
   "cell_type": "code",
   "execution_count": null,
   "metadata": {},
   "outputs": [],
   "source": [
    "ufo_data.isnull().sum()"
   ]
  },
  {
   "cell_type": "code",
   "execution_count": null,
   "metadata": {},
   "outputs": [],
   "source": [
    "#Country -> unknown\n",
    "print(ufo_data.country.unique())\n",
    "ufo_data[\"country\"] = ufo_data[\"country\"].fillna(\"unknown\")\n",
    "print(ufo_data.country.unique())"
   ]
  },
  {
   "cell_type": "code",
   "execution_count": null,
   "metadata": {},
   "outputs": [],
   "source": [
    "#State -> unknown\n",
    "print(ufo_data.state.unique())\n",
    "ufo_data[\"state\"] = ufo_data[\"state\"].fillna(\"unknown\")\n",
    "print(ufo_data.state.unique())\n"
   ]
  },
  {
   "cell_type": "code",
   "execution_count": null,
   "metadata": {},
   "outputs": [],
   "source": [
    "#duration (hours/min) -> drop column\n",
    "del ufo_data['duration (hours/min)']"
   ]
  },
  {
   "cell_type": "code",
   "execution_count": null,
   "metadata": {},
   "outputs": [],
   "source": [
    "#duration (seconds) -> dropna\n",
    "#shape -> dropna\n",
    "#comment -> dropna\n",
    "ufo_data = ufo_data.dropna(subset=['duration (seconds)', 'shape', 'comments'])"
   ]
  },
  {
   "cell_type": "code",
   "execution_count": null,
   "metadata": {},
   "outputs": [],
   "source": [
    "ufo_data.isnull().sum()"
   ]
  },
  {
   "cell_type": "code",
   "execution_count": null,
   "metadata": {},
   "outputs": [],
   "source": [
    "ufo_data.shape"
   ]
  },
  {
   "cell_type": "code",
   "execution_count": null,
   "metadata": {},
   "outputs": [],
   "source": []
  },
  {
   "cell_type": "code",
   "execution_count": null,
   "metadata": {},
   "outputs": [],
   "source": [
    "#transform column"
   ]
  },
  {
   "cell_type": "code",
   "execution_count": null,
   "metadata": {},
   "outputs": [],
   "source": [
    "ufo_data.head()"
   ]
  },
  {
   "cell_type": "code",
   "execution_count": null,
   "metadata": {},
   "outputs": [],
   "source": [
    "ufo_data.dtypes\n",
    "#datetime -> datetime\n",
    "#year -> add new\n",
    "#month -> add new\n",
    "#monthday -> add new\n",
    "#weekday -> add new\n",
    "#year_posted -> add new\n",
    "#date posted -> drop"
   ]
  },
  {
   "cell_type": "code",
   "execution_count": null,
   "metadata": {},
   "outputs": [],
   "source": [
    "#datetime -> datetime\n",
    "\n",
    "ufo_data.datetime = ufo_data.datetime.replace({'24:00':'00:00'}, regex=True)\n",
    "ufo_data.datetime = pd.to_datetime(ufo_data['datetime'])\n",
    "ufo_data.dtypes"
   ]
  },
  {
   "cell_type": "code",
   "execution_count": null,
   "metadata": {},
   "outputs": [],
   "source": [
    "#year -> add new\n",
    "#month -> add new\n",
    "#monthday -> add new\n",
    "#weekday -> add new\n",
    "ufo_data['year'] = ufo_data['datetime'].dt.year\n",
    "ufo_data['month'] = ufo_data['datetime'].dt.month\n",
    "ufo_data['monthday'] = ufo_data['datetime'].dt.day\n",
    "ufo_data['weekday'] = ufo_data['datetime'].dt.weekday\n",
    "ufo_data.head()"
   ]
  },
  {
   "cell_type": "code",
   "execution_count": null,
   "metadata": {},
   "outputs": [],
   "source": [
    "#year_posted -> add new\n",
    "#date posted -> drop\n",
    "\n",
    "def grep_year(x):\n",
    "    x = x.split(\" \")[0]\n",
    "    x = x.split(\"/\")[2]\n",
    "    x = int(x)\n",
    "    return x\n",
    "\n",
    "ufo_data['year_posted'] = ufo_data['date posted'].apply(grep_year)\n",
    "del(ufo_data['date posted'])\n",
    "ufo_data.head()"
   ]
  },
  {
   "cell_type": "code",
   "execution_count": null,
   "metadata": {},
   "outputs": [],
   "source": [
    "# Adding Season Column\n",
    "def conv_season(x):\n",
    "    if x in range(3,6):\n",
    "        return \"Spring\"\n",
    "    if x in range(6,9):\n",
    "        return \"Summer\"\n",
    "    if x in range(9,12):\n",
    "        return \"Autumn\"\n",
    "    if x == 12 or x == 1 or x == 2:\n",
    "        return \"Winter\"\n",
    "\n",
    "ufo_data[\"season\"] = ufo_data['month'].apply(conv_season)\n",
    "ufo_data.sample(15)"
   ]
  },
  {
   "cell_type": "code",
   "execution_count": null,
   "metadata": {},
   "outputs": [],
   "source": [
    "#Latitude Langitude\n",
    "ufo_data['latitude'] = pd.to_numeric(ufo_data['latitude'],errors = 'coerce')  # latitudes as numerics\n",
    "ufo_data['longitude'] = pd.to_numeric(ufo_data['longitude'], errors='coerce')\n",
    "\n",
    "ufo_data['duration (seconds)'] = pd.to_numeric(ufo_data['duration (seconds)'], errors='coerce')"
   ]
  },
  {
   "cell_type": "code",
   "execution_count": null,
   "metadata": {},
   "outputs": [],
   "source": [
    "ufo_data.isnull().sum()"
   ]
  },
  {
   "cell_type": "code",
   "execution_count": null,
   "metadata": {},
   "outputs": [],
   "source": [
    "ufo_data = ufo_data.dropna(subset=['duration (seconds)', 'latitude', 'longitude'])"
   ]
  },
  {
   "cell_type": "markdown",
   "metadata": {},
   "source": [
    "# Data Exploration"
   ]
  },
  {
   "cell_type": "code",
   "execution_count": null,
   "metadata": {},
   "outputs": [],
   "source": [
    "#histogram\n",
    "ufo_data.hist(figsize=(13, 11))\n",
    "plt.show()"
   ]
  },
  {
   "cell_type": "code",
   "execution_count": null,
   "metadata": {},
   "outputs": [],
   "source": [
    "#correlation coefficicent matrix\n",
    "\n",
    "plt.figure(figsize=(15,10))\n",
    "sns.heatmap(ufo_data.corr(), annot=True, linewidths=.20, fmt='.3f')\n",
    "plt.title('Correlation between different features')"
   ]
  },
  {
   "cell_type": "code",
   "execution_count": null,
   "metadata": {},
   "outputs": [],
   "source": [
    "fig, ax = plt.subplots(1, 3, figsize=(20,5))\n",
    "\n",
    "sns.distplot(ufo_data['year'], ax=ax[0])\n",
    "sns.distplot(ufo_data['month'], ax=ax[1])\n",
    "sns.distplot(ufo_data['monthday'], ax=ax[2])"
   ]
  },
  {
   "cell_type": "code",
   "execution_count": null,
   "metadata": {},
   "outputs": [],
   "source": []
  },
  {
   "cell_type": "code",
   "execution_count": null,
   "metadata": {},
   "outputs": [],
   "source": [
    "# Ufo Sighting Frequency\n",
    "print(ufo_data.year.min(), ufo_data.year.max())"
   ]
  },
  {
   "cell_type": "code",
   "execution_count": null,
   "metadata": {},
   "outputs": [],
   "source": [
    "# Ufo Sighting Frequency (1966-2014)\n",
    "\n",
    "## Set axes ##\n",
    "years_data = ufo_data.year.value_counts()\n",
    "years_index = years_data.index  # x ticks\n",
    "years_values = years_data.get_values()\n",
    "\n",
    "## Create Bar Plot ##\n",
    "plt.figure(figsize=(15,8))\n",
    "plt.xticks(rotation = 60)\n",
    "plt.title('UFO Sightings by Year')\n",
    "\n",
    "years_plot = sns.barplot(x=years_index[:40],y=years_values[:40], palette = \"GnBu\")"
   ]
  },
  {
   "cell_type": "code",
   "execution_count": null,
   "metadata": {},
   "outputs": [],
   "source": [
    "# Where most UFO sightings occur?\n",
    "ufo_data.country.value_counts()"
   ]
  },
  {
   "cell_type": "code",
   "execution_count": null,
   "metadata": {},
   "outputs": [],
   "source": [
    "# Where most UFO sightings occur?\n",
    "country_sightings = ufo_data.country.value_counts()\n",
    "\n",
    "explode = (0, 0, 0, 0, 0., 0.05)\n",
    "colors = ['lightblue','gold','yellowgreen','lightcoral','orange']\n",
    "country_sightings.plot(kind = 'pie', fontsize = 0, title='UFO Sightings by Country', colors=colors,\n",
    "                       autopct='%1.1f%%',shadow=True, explode=explode,figsize=(8,8))\n",
    "plt.legend(labels=['United States','Unknown','Canada','United Kingdom','Australia','Germany'], loc=\"best\")\n",
    "plt.tight_layout()"
   ]
  },
  {
   "cell_type": "markdown",
   "metadata": {},
   "source": [
    "Could mean:\n",
    "1. A large amount of Americans are part reptilian alien\n",
    "2. The US government is in cahoots with extra-terrestrials and is using their technology to maintain their status as a global superpower"
   ]
  },
  {
   "cell_type": "code",
   "execution_count": null,
   "metadata": {},
   "outputs": [],
   "source": [
    "# UFO Sightings by US State"
   ]
  },
  {
   "cell_type": "code",
   "execution_count": null,
   "metadata": {},
   "outputs": [],
   "source": [
    "ufo_data['country'].value_counts(normalize=True)"
   ]
  },
  {
   "cell_type": "code",
   "execution_count": null,
   "metadata": {},
   "outputs": [],
   "source": [
    "# Where do UFO Sightings occur most within the United States?\n",
    "usa_filter = ufo_data['country']=='us'\n",
    "us_data = ufo_data[usa_filter]\n",
    "\n",
    "states_sights = us_data.state.value_counts()  # State Data\n",
    "state_names = states_sights.index  # x axis ticks\n",
    "state_freq = states_sights.get_values()  # y axis values\n",
    "\n",
    "plt.figure(figsize=(15,8))\n",
    "plt.xticks(rotation = 60)\n",
    "plt.title('Total UFO Sightings by State')\n",
    "states_plot = sns.barplot(x=state_names,y=state_freq, palette=\"GnBu_r\")\n",
    "plt.show()\n",
    "print('Top 10 States for Total UFO Sightings:')\n",
    "print(states_sights[:10].sort_values(ascending=False))"
   ]
  },
  {
   "cell_type": "code",
   "execution_count": null,
   "metadata": {},
   "outputs": [],
   "source": [
    "# Measure UFO Sighting to state population\n",
    "statespop = {'al':4872725.,'ak':746079.,'az':7044577.,'ar':2998643.,'ca':39506094.,\n",
    "            'co':5632271.,'ct':3568174.,'de':960054.,'dc':691963.,'fl':20979964.,\n",
    "            'ga':10421344.,'hi':1431957.,'id':1713452.,'il':12764031.,'in':6653338.,\n",
    "            'ia':3147389.,'ks':2907857.,'ky':4449337.,'la':4694372.,'me':1333505.,\n",
    "            'md':6037911.,'ma':6839318.,'mi':9938885.,'mn':5557469.,'ms':2988062.,\n",
    "            'mo':6109796.,'mt':1052967.,'ne':1920467.,'nv':2996358,'nh':1339479.,\n",
    "            'nj':8953517.,'nm':2081702.,'ny':19743395.,'nc':10258390.,'nd':759069.,\n",
    "            'oh':11623656.,'ok':3939708.,'or':4162296.,'pa':12776550.,'pr':3661538.,\n",
    "            'ri':1057245.,'sc':5027404.,'sd':872989.,'tn':6707332.,'tx':28295553.,\n",
    "            'ut':3111802.,'vt':623100.,'va':8456029.,'wa':7415710.,'wv':1821151.,\n",
    "            'wi':5789525.,'wy':584447.} \n",
    "states_pop = pd.Series(statespop)  # turn dict into series type\n",
    "\n",
    "\n",
    "state_propsight = (states_sights / states_pop)*100 # prop data series for viz, scaled for style\n",
    "state_propsight = state_propsight.sort_values(ascending=False) \n",
    "\n",
    "# Visualize it\n",
    "us_namesp = state_propsight.index  # x ticks\n",
    "us_sightsp = state_propsight.get_values()  # y values\n",
    "\n",
    "plt.figure(figsize=(15,8))\n",
    "plt.xticks(rotation=60)\n",
    "plt.title('State UFO Sightings Relative to Population')\n",
    "sns.barplot(x = us_namesp[:50], y = us_sightsp[:50], palette=\"GnBu_r\")\n",
    "plt.show()\n",
    "print('States with Highest Proportion of UFO Sightings:')\n",
    "print(round(state_propsight[:10],2))"
   ]
  },
  {
   "cell_type": "code",
   "execution_count": null,
   "metadata": {},
   "outputs": [],
   "source": []
  },
  {
   "cell_type": "code",
   "execution_count": null,
   "metadata": {},
   "outputs": [],
   "source": [
    "#Is there a time during the year when I'm most likely to see a UFO?\n",
    "m_cts = (ufo_data['month'].value_counts()).sort_index()\n",
    "m_ctsx = m_cts.index\n",
    "m_ctsy = m_cts.get_values()\n",
    "f, ax = plt.subplots(figsize=(15,8))\n",
    "\n",
    "sns.barplot(x=m_ctsx, y=m_ctsy, palette=\"YlGnBu\")\n",
    "ax.set_title('Global UFO Sightings by Month')\n",
    "ax.set_xlabel('Month')\n",
    "ax.set_ylabel('# Sightings')\n",
    "plt.xticks(rotation=45)\n",
    "plt.show()"
   ]
  },
  {
   "cell_type": "code",
   "execution_count": null,
   "metadata": {},
   "outputs": [],
   "source": [
    "#Which season was sighted\n",
    "ufo_data['season'].value_counts().plot('bar')\n",
    "plt.ylabel(\"Frequency\")\n",
    "plt.xticks(rotation=0)\n",
    "plt.title(\"Sight - Season\")\n",
    "plt.show()"
   ]
  },
  {
   "cell_type": "markdown",
   "metadata": {},
   "source": [
    "Typically, I see UFOs in the summer. This may be because I'm outside more often in the summer, or it could be because UFO activity is heightened during the summer. We can group UFO sightings by location in order to see if this makes a difference (above the equator vs. below the equator)."
   ]
  },
  {
   "cell_type": "code",
   "execution_count": null,
   "metadata": {},
   "outputs": [],
   "source": []
  },
  {
   "cell_type": "code",
   "execution_count": null,
   "metadata": {},
   "outputs": [],
   "source": [
    "#How long\n",
    "plt.subplots(figsize=(22,8))\n",
    "duration_sec = [i for i in ufo_data[\"duration (seconds)\"].value_counts()]\n",
    "duration_sec_list = []\n",
    "for i in duration_sec:\n",
    "    if i in range(0,16):\n",
    "        duration_sec_list.append(\"0-15\")\n",
    "    if i in range(15,31):\n",
    "        duration_sec_list.append(\"15-30\")\n",
    "    if i in range(31,61):\n",
    "        duration_sec_list.append(\"30-60\")\n",
    "    if i in range(60,121):\n",
    "        duration_sec_list.append(\"60-120\")\n",
    "    if i in range(120,241):\n",
    "        duration_sec_list.append(\"120-240\")\n",
    "    if i > 240:\n",
    "        duration_sec_list.append(\">240\")\n",
    "duration_sec_list = pd.Series(duration_sec_list)\n",
    "di = duration_sec_list.value_counts().index\n",
    "dv = duration_sec_list.value_counts().values\n",
    "sns.barplot(di,dv)\n",
    "\n",
    "plt.xlabel(\"Time - Seconds\",fontsize=24)\n",
    "plt.xticks(fontsize=20)\n",
    "plt.ylabel(\"Rates\",fontsize=24)\n",
    "plt.yticks(fontsize=20)\n",
    "\n",
    "plt.show()"
   ]
  },
  {
   "cell_type": "code",
   "execution_count": null,
   "metadata": {},
   "outputs": [],
   "source": [
    "#Shape\n",
    "plt.subplots(figsize=(18,8))\n",
    "\n",
    "ufo_data['shape'].value_counts().plot('bar')\n",
    "plt.xticks(rotation=45, fontsize=15)\n",
    "plt.show()"
   ]
  },
  {
   "cell_type": "code",
   "execution_count": null,
   "metadata": {},
   "outputs": [],
   "source": [
    "#Sight years and post years\n",
    "plt.subplots(figsize=(22,10))\n",
    "\n",
    "plt.subplot(2,1,1)\n",
    "plt.title(\"Sight rates by years\")\n",
    "ufo_data['year'].value_counts().plot('bar')\n",
    "plt.xlabel(\"Years\")\n",
    "plt.subplots(figsize=(22,10))\n",
    "\n",
    "plt.subplot(2,1,2)\n",
    "plt.title(\"Posting the case's rates by years\")\n",
    "ufo_data['year_posted'].value_counts().plot('bar')\n",
    "plt.ylabel(\"Post Year\")\n",
    "plt.xticks(rotation=0)\n",
    "plt.show()"
   ]
  },
  {
   "cell_type": "code",
   "execution_count": null,
   "metadata": {},
   "outputs": [],
   "source": [
    "words = [i for i in ufo_data.comments.dropna()]\n",
    "    \n",
    "words = \" \".join(words)\n",
    "\n",
    "plt.subplots(figsize=(28,12))\n",
    "wordcloud = WordCloud(\n",
    "                          background_color='white',\n",
    "                          width=2048,\n",
    "                          height=1024\n",
    "                          ).generate(words)\n",
    "plt.imshow(wordcloud)\n",
    "plt.axis('off')\n",
    "plt.savefig('graph.png')\n",
    "\n",
    "plt.show()"
   ]
  },
  {
   "cell_type": "code",
   "execution_count": null,
   "metadata": {},
   "outputs": [],
   "source": []
  }
 ],
 "metadata": {
  "kernelspec": {
   "display_name": "Python 3",
   "language": "python",
   "name": "python3"
  },
  "language_info": {
   "codemirror_mode": {
    "name": "ipython",
    "version": 3
   },
   "file_extension": ".py",
   "mimetype": "text/x-python",
   "name": "python",
   "nbconvert_exporter": "python",
   "pygments_lexer": "ipython3",
   "version": "3.6.8"
  }
 },
 "nbformat": 4,
 "nbformat_minor": 2
}
