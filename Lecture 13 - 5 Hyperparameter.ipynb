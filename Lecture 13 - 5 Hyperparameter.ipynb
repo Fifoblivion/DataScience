{
 "cells": [
  {
   "cell_type": "markdown",
   "metadata": {},
   "source": [
    "# Voting"
   ]
  },
  {
   "cell_type": "code",
   "execution_count": null,
   "metadata": {},
   "outputs": [],
   "source": [
    "import pandas as pd\n",
    "import numpy as np\n",
    "\n",
    "from sklearn.preprocessing import StandardScaler\n",
    "from sklearn.model_selection import train_test_split, cross_val_score, StratifiedKFold\n",
    "from sklearn import metrics\n",
    "\n",
    "from matplotlib.colors import ListedColormap\n",
    "import matplotlib.pyplot as plt\n",
    "%matplotlib inline\n",
    "\n",
    "from sklearn.ensemble import RandomForestClassifier"
   ]
  },
  {
   "cell_type": "markdown",
   "metadata": {},
   "source": [
    "### Prepare Dataset"
   ]
  },
  {
   "cell_type": "code",
   "execution_count": null,
   "metadata": {},
   "outputs": [],
   "source": [
    "df = pd.read_csv(\"data/diabetes.csv\")\n",
    "\n",
    "# Features & Target\n",
    "X = df.iloc[:,:8].values\n",
    "y = df['class'].values\n",
    "\n",
    "#Normalize\n",
    "X = StandardScaler().fit_transform(X)\n",
    "\n",
    "# Split dataset into train and test sets\n",
    "X_train, X_test, y_train, y_test = train_test_split(X, y, test_size=0.3)"
   ]
  },
  {
   "cell_type": "markdown",
   "metadata": {},
   "source": [
    "# GridSearch - Random Classifier"
   ]
  },
  {
   "cell_type": "code",
   "execution_count": null,
   "metadata": {
    "_cell_guid": "32abc9b7-f58d-4aa2-b002-25a84138e01c",
    "_execution_state": "idle",
    "_uuid": "05a908322774e752b86a86275740044c45bd48b4",
    "collapsed": true
   },
   "outputs": [],
   "source": [
    "from sklearn.model_selection import GridSearchCV\n",
    "\n",
    "kfold = StratifiedKFold(n_splits=5)\n",
    "num_trees = 100\n",
    "\n",
    "clf_rf = RandomForestClassifier().fit(X_train, y_train)\n",
    "\n",
    "rf_params = {\n",
    "    'n_estimators': [10, 25, 50, 75, 100],\n",
    "    'criterion':  ['gini', 'entropy'],\n",
    "    'max_features': [None, 'auto', 'sqrt', 'log2'],\n",
    "    'max_depth': [1, 3, 5, 7, 9]\n",
    "}\n",
    "# setting verbose = 10 will print the progress for every 10 task completion\n",
    "grid = GridSearchCV(clf_rf, rf_params, scoring='roc_auc', cv=kfold, verbose=10, n_jobs=-1)\n",
    "grid.fit(X_train, y_train)\n",
    "\n",
    "print ('Best Parameters: ', grid.best_params_)\n",
    "\n",
    "results = cross_val_score(grid.best_estimator_, X_train,y_train, cv=kfold)\n",
    "print (\"Accuracy - Train CV: \", results.mean())\n",
    "print (\"Accuracy - Train : \", metrics.accuracy_score(grid.best_estimator_.predict(X_train), y_train))\n",
    "print (\"Accuracy - Test : \", metrics.accuracy_score(grid.best_estimator_.predict(X_test), y_test))"
   ]
  },
  {
   "cell_type": "markdown",
   "metadata": {},
   "source": [
    "# RandomSearch"
   ]
  },
  {
   "cell_type": "code",
   "execution_count": null,
   "metadata": {},
   "outputs": [],
   "source": [
    "from sklearn.model_selection import RandomizedSearchCV\n",
    "from scipy.stats import randint as sp_randint\n",
    "\n",
    "# specify parameters and distributions to sample from\n",
    "param_dist = {'n_estimators':sp_randint(100,1000),\n",
    "              'criterion': ['gini', 'entropy'],\n",
    "              'max_features': [None, 'auto', 'sqrt', 'log2'],\n",
    "              'max_depth': [None, 1, 3, 5, 7, 9]\n",
    "             }\n",
    "\n",
    "# run randomized search\n",
    "n_iter_search = 20\n",
    "random_search = RandomizedSearchCV(clf_rf, param_distributions=param_dist, cv=kfold, \n",
    "                                   n_iter=n_iter_search, verbose=10, n_jobs=-1)\n",
    "\n",
    "random_search.fit(X_train, y_train)\n",
    "# report(random_search.cv_results_)\n",
    "\n",
    "print ('Best Parameters: ', random_search.best_params_)\n",
    "\n",
    "results = cross_val_score(random_search.best_estimator_, X_train,y_train, cv=kfold)\n",
    "print (\"Accuracy - Train CV: \", results.mean())\n",
    "print (\"Accuracy - Train : \", metrics.accuracy_score(random_search.best_estimator_.predict(X_train), y_train))\n",
    "print (\"Accuracy - Test : \", metrics.accuracy_score(random_search.best_estimator_.predict(X_test), y_test))"
   ]
  },
  {
   "cell_type": "code",
   "execution_count": null,
   "metadata": {},
   "outputs": [],
   "source": []
  }
 ],
 "metadata": {
  "kernelspec": {
   "display_name": "Python 3",
   "language": "python",
   "name": "python3"
  },
  "language_info": {
   "codemirror_mode": {
    "name": "ipython",
    "version": 3
   },
   "file_extension": ".py",
   "mimetype": "text/x-python",
   "name": "python",
   "nbconvert_exporter": "python",
   "pygments_lexer": "ipython3",
   "version": "3.7.1"
  }
 },
 "nbformat": 4,
 "nbformat_minor": 2
}
